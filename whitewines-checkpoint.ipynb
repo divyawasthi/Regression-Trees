{
 "cells": [
  {
   "cell_type": "code",
   "execution_count": 35,
   "id": "34dcb26e",
   "metadata": {},
   "outputs": [],
   "source": [
    "wines <- read.csv('winequality_white.csv')"
   ]
  },
  {
   "cell_type": "code",
   "execution_count": 36,
   "id": "0466089f",
   "metadata": {},
   "outputs": [
    {
     "name": "stdout",
     "output_type": "stream",
     "text": [
      "'data.frame':\t4898 obs. of  12 variables:\n",
      " $ fixed.acidity       : num  7 6.3 8.1 7.2 7.2 8.1 6.2 7 6.3 8.1 ...\n",
      " $ volatile.acidity    : num  0.27 0.3 0.28 0.23 0.23 0.28 0.32 0.27 0.3 0.22 ...\n",
      " $ citric.acid         : num  0.36 0.34 0.4 0.32 0.32 0.4 0.16 0.36 0.34 0.43 ...\n",
      " $ residual.sugar      : num  20.7 1.6 6.9 8.5 8.5 6.9 7 20.7 1.6 1.5 ...\n",
      " $ chlorides           : num  0.045 0.049 0.05 0.058 0.058 0.05 0.045 0.045 0.049 0.044 ...\n",
      " $ free.sulfur.dioxide : num  45 14 30 47 47 30 30 45 14 28 ...\n",
      " $ total.sulfur.dioxide: num  170 132 97 186 186 97 136 170 132 129 ...\n",
      " $ density             : num  1.001 0.994 0.995 0.996 0.996 ...\n",
      " $ pH                  : num  3 3.3 3.26 3.19 3.19 3.26 3.18 3 3.3 3.22 ...\n",
      " $ sulphates           : num  0.45 0.49 0.44 0.4 0.4 0.44 0.47 0.45 0.49 0.45 ...\n",
      " $ alcohol             : num  8.8 9.5 10.1 9.9 9.9 10.1 9.6 8.8 9.5 11 ...\n",
      " $ quality             : int  6 6 6 6 6 6 6 6 6 6 ...\n"
     ]
    }
   ],
   "source": [
    "str(wines)"
   ]
  },
  {
   "cell_type": "code",
   "execution_count": 37,
   "id": "b5bc9762",
   "metadata": {},
   "outputs": [
    {
     "data": {
      "image/png": "[encoded data removed]",
      "text/plain": [
       "Plot with title \"Histogram of wines$quality\""
      ]
     },
     "metadata": {},
     "output_type": "display_data"
    }
   ],
   "source": [
    "hist(wines$quality)"
   ]
  },
  {
   "cell_type": "code",
   "execution_count": 38,
   "id": "aa13b5ed",
   "metadata": {},
   "outputs": [
    {
     "data": {
      "text/plain": [
       " fixed.acidity    volatile.acidity  citric.acid     residual.sugar  \n",
       " Min.   : 3.800   Min.   :0.0800   Min.   :0.0000   Min.   : 0.600  \n",
       " 1st Qu.: 6.300   1st Qu.:0.2100   1st Qu.:0.2700   1st Qu.: 1.700  \n",
       " Median : 6.800   Median :0.2600   Median :0.3200   Median : 5.200  \n",
       " Mean   : 6.855   Mean   :0.2782   Mean   :0.3342   Mean   : 6.391  \n",
       " 3rd Qu.: 7.300   3rd Qu.:0.3200   3rd Qu.:0.3900   3rd Qu.: 9.900  \n",
       " Max.   :14.200   Max.   :1.1000   Max.   :1.6600   Max.   :65.800  \n",
       "   chlorides       free.sulfur.dioxide total.sulfur.dioxide    density      \n",
       " Min.   :0.00900   Min.   :  2.00      Min.   :  9.0        Min.   :0.9871  \n",
       " 1st Qu.:0.03600   1st Qu.: 23.00      1st Qu.:108.0        1st Qu.:0.9917  \n",
       " Median :0.04300   Median : 34.00      Median :134.0        Median :0.9937  \n",
       " Mean   :0.04577   Mean   : 35.31      Mean   :138.4        Mean   :0.9940  \n",
       " 3rd Qu.:0.05000   3rd Qu.: 46.00      3rd Qu.:167.0        3rd Qu.:0.9961  \n",
       " Max.   :0.34600   Max.   :289.00      Max.   :440.0        Max.   :1.0390  \n",
       "       pH          sulphates         alcohol         quality     \n",
       " Min.   :2.720   Min.   :0.2200   Min.   : 8.00   Min.   :3.000  \n",
       " 1st Qu.:3.090   1st Qu.:0.4100   1st Qu.: 9.50   1st Qu.:5.000  \n",
       " Median :3.180   Median :0.4700   Median :10.40   Median :6.000  \n",
       " Mean   :3.188   Mean   :0.4898   Mean   :10.51   Mean   :5.878  \n",
       " 3rd Qu.:3.280   3rd Qu.:0.5500   3rd Qu.:11.40   3rd Qu.:6.000  \n",
       " Max.   :3.820   Max.   :1.0800   Max.   :14.20   Max.   :9.000  "
      ]
     },
     "metadata": {},
     "output_type": "display_data"
    }
   ],
   "source": [
    "summary(wines)"
   ]
  },
  {
   "cell_type": "code",
   "execution_count": 39,
   "id": "431ab3aa",
   "metadata": {},
   "outputs": [],
   "source": [
    "wine_train <- wines[1:3750,]\n",
    "wine_test <- wines[3751:4898,]"
   ]
  },
  {
   "cell_type": "code",
   "execution_count": 40,
   "id": "cfce1efa",
   "metadata": {},
   "outputs": [],
   "source": [
    "library('rpart')\n",
    "#recursive partitioning : for fitting classification or regression trees "
   ]
  },
  {
   "cell_type": "code",
   "execution_count": 41,
   "id": "23d556e1",
   "metadata": {},
   "outputs": [],
   "source": [
    "m.rpart <- rpart(quality ~ .,data=wine_train)"
   ]
  },
  {
   "cell_type": "code",
   "execution_count": 42,
   "id": "df18c4bc",
   "metadata": {},
   "outputs": [
    {
     "data": {
      "text/plain": [
       "n= 3750 \n",
       "\n",
       "node), split, n, deviance, yval\n",
       "      * denotes terminal node\n",
       "\n",
       " 1) root 3750 3140.06000 5.886933  \n",
       "   2) alcohol< 10.85 2473 1510.66200 5.609381  \n",
       "     4) volatile.acidity>=0.2425 1406  740.15080 5.402560  \n",
       "       8) volatile.acidity>=0.4225 182   92.99451 4.994505 *\n",
       "       9) volatile.acidity< 0.4225 1224  612.34560 5.463235 *\n",
       "     5) volatile.acidity< 0.2425 1067  631.12090 5.881912 *\n",
       "   3) alcohol>=10.85 1277 1069.95800 6.424432  \n",
       "     6) free.sulfur.dioxide< 11.5 93   99.18280 5.473118 *\n",
       "     7) free.sulfur.dioxide>=11.5 1184  879.99920 6.499155  \n",
       "      14) alcohol< 11.85 611  447.38130 6.296236 *\n",
       "      15) alcohol>=11.85 573  380.63180 6.715532 *"
      ]
     },
     "metadata": {},
     "output_type": "display_data"
    }
   ],
   "source": [
    "m.rpart"
   ]
  },
  {
   "cell_type": "code",
   "execution_count": 43,
   "id": "f6b73d13",
   "metadata": {},
   "outputs": [],
   "source": [
    "library(rpart.plot)"
   ]
  },
  {
   "cell_type": "code",
   "execution_count": 44,
   "id": "dab38356",
   "metadata": {},
   "outputs": [
    {
     "data": {
      "image/png": "[encoded data removed]",
      "text/plain": [
       "plot without title"
      ]
     },
     "metadata": {},
     "output_type": "display_data"
    }
   ],
   "source": [
    "rpart.plot(m.rpart,digits=4,fallen.leaves=TRUE,type=3,extra=101)"
   ]
  },
  {
   "cell_type": "code",
   "execution_count": 45,
   "id": "9ed8fb11",
   "metadata": {},
   "outputs": [],
   "source": [
    "p.rpart <- predict(m.rpart,wine_test)"
   ]
  },
  {
   "cell_type": "code",
   "execution_count": 46,
   "id": "4c462ff1",
   "metadata": {},
   "outputs": [
    {
     "data": {
      "text/plain": [
       "   Min. 1st Qu.  Median    Mean 3rd Qu.    Max. \n",
       "  4.995   5.463   5.882   5.999   6.296   6.716 "
      ]
     },
     "metadata": {},
     "output_type": "display_data"
    }
   ],
   "source": [
    "summary(p.rpart)"
   ]
  },
  {
   "cell_type": "code",
   "execution_count": 47,
   "id": "44792cef",
   "metadata": {},
   "outputs": [
    {
     "data": {
      "text/plain": [
       "   Min. 1st Qu.  Median    Mean 3rd Qu.    Max. \n",
       "  3.000   5.000   6.000   5.848   6.000   8.000 "
      ]
     },
     "metadata": {},
     "output_type": "display_data"
    }
   ],
   "source": [
    "summary(wine_test$quality)"
   ]
  },
  {
   "cell_type": "code",
   "execution_count": 48,
   "id": "13f8ae59",
   "metadata": {},
   "outputs": [
    {
     "data": {
      "text/html": [
       "0.493160826287641"
      ],
      "text/latex": [
       "0.493160826287641"
      ],
      "text/markdown": [
       "0.493160826287641"
      ],
      "text/plain": [
       "[1] 0.4931608"
      ]
     },
     "metadata": {},
     "output_type": "display_data"
    }
   ],
   "source": [
    "cor(p.rpart,wine_test$quality) #corelation between prediction and actual values "
   ]
  },
  {
   "cell_type": "code",
   "execution_count": 49,
   "id": "7d312889",
   "metadata": {},
   "outputs": [],
   "source": [
    "# error using mae \n",
    "MAE <- function(actual,predicted){\n",
    "    mean(abs(actual-predicted))\n",
    "}"
   ]
  },
  {
   "cell_type": "code",
   "execution_count": 61,
   "id": "53e02131",
   "metadata": {},
   "outputs": [
    {
     "data": {
      "text/html": [
       "0.573210442591062"
      ],
      "text/latex": [
       "0.573210442591062"
      ],
      "text/markdown": [
       "0.573210442591062"
      ],
      "text/plain": [
       "[1] 0.5732104"
      ]
     },
     "metadata": {},
     "output_type": "display_data"
    }
   ],
   "source": [
    "MAE(p.rpart,wine_test$quality)"
   ]
  },
  {
   "cell_type": "markdown",
   "id": "db14e9f1",
   "metadata": {},
   "source": [
    "This implies that , on average the difference between our model's predictions and the true quality score was about 0.57 ."
   ]
  },
  {
   "cell_type": "code",
   "execution_count": null,
   "id": "1001d15e",
   "metadata": {},
   "outputs": [],
   "source": []
  }
 ],
 "metadata": {
  "kernelspec": {
   "display_name": "R",
   "language": "R",
   "name": "ir"
  },
  "language_info": {
   "codemirror_mode": "r",
   "file_extension": ".r",
   "mimetype": "text/x-r-source",
   "name": "R",
   "pygments_lexer": "r",
   "version": "3.6.1"
  }
 },
 "nbformat": 4,
 "nbformat_minor": 5
}
